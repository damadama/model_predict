{
 "cells": [
  {
   "cell_type": "markdown",
   "metadata": {},
   "source": [
    "### モジュールインポート"
   ]
  },
  {
   "cell_type": "code",
   "execution_count": 166,
   "metadata": {},
   "outputs": [],
   "source": [
    "import pandas as pd#pandasのインポート\n",
    "from sklearn.model_selection import train_test_split#データ分割用\n",
    "from sklearn.ensemble import RandomForestClassifier#ランダムフォレスト\n",
    "import numpy as np\n",
    "import matplotlib.pyplot as plt"
   ]
  },
  {
   "cell_type": "markdown",
   "metadata": {},
   "source": [
    "### スコア算出用関数"
   ]
  },
  {
   "cell_type": "code",
   "execution_count": 167,
   "metadata": {},
   "outputs": [],
   "source": [
    "# スコア算出\n",
    "from sklearn.metrics import mean_absolute_error,mean_squared_error,r2_score\n",
    "\n",
    "def get_eval_score(y_true,y_pred):\n",
    "    mae = mean_absolute_error(y_true,y_pred)\n",
    "    mse = mean_squared_error(y_true,y_pred)\n",
    "    rmse = np.sqrt(mse)\n",
    "    r2score = r2_score(y_true,y_pred)\n",
    "    \n",
    "    print(f\"MAE = {mae}\")\n",
    "    print(f\"MSE = {mse}\")\n",
    "    print(f\"RMSE = {rmse}\")\n",
    "    print(f\"R2SCORE = {r2score}\")\n",
    "\n"
   ]
  },
  {
   "cell_type": "markdown",
   "metadata": {},
   "source": [
    "### データの読み込み"
   ]
  },
  {
   "cell_type": "code",
   "execution_count": 168,
   "metadata": {},
   "outputs": [
    {
     "data": {
      "text/html": [
       "<div>\n",
       "<style scoped>\n",
       "    .dataframe tbody tr th:only-of-type {\n",
       "        vertical-align: middle;\n",
       "    }\n",
       "\n",
       "    .dataframe tbody tr th {\n",
       "        vertical-align: top;\n",
       "    }\n",
       "\n",
       "    .dataframe thead th {\n",
       "        text-align: right;\n",
       "    }\n",
       "</style>\n",
       "<table border=\"1\" class=\"dataframe\">\n",
       "  <thead>\n",
       "    <tr style=\"text-align: right;\">\n",
       "      <th></th>\n",
       "      <th>suction_cup_diameter</th>\n",
       "      <th>plate_thickness</th>\n",
       "      <th>weight</th>\n",
       "      <th>vacuum_pressure</th>\n",
       "      <th>distorted</th>\n",
       "    </tr>\n",
       "  </thead>\n",
       "  <tbody>\n",
       "    <tr>\n",
       "      <th>0</th>\n",
       "      <td>60</td>\n",
       "      <td>0.6</td>\n",
       "      <td>17.8</td>\n",
       "      <td>45</td>\n",
       "      <td>1</td>\n",
       "    </tr>\n",
       "    <tr>\n",
       "      <th>1</th>\n",
       "      <td>60</td>\n",
       "      <td>0.6</td>\n",
       "      <td>17.8</td>\n",
       "      <td>50</td>\n",
       "      <td>1</td>\n",
       "    </tr>\n",
       "    <tr>\n",
       "      <th>2</th>\n",
       "      <td>60</td>\n",
       "      <td>0.6</td>\n",
       "      <td>17.8</td>\n",
       "      <td>55</td>\n",
       "      <td>1</td>\n",
       "    </tr>\n",
       "    <tr>\n",
       "      <th>3</th>\n",
       "      <td>60</td>\n",
       "      <td>0.6</td>\n",
       "      <td>17.8</td>\n",
       "      <td>60</td>\n",
       "      <td>1</td>\n",
       "    </tr>\n",
       "    <tr>\n",
       "      <th>4</th>\n",
       "      <td>60</td>\n",
       "      <td>0.6</td>\n",
       "      <td>17.8</td>\n",
       "      <td>65</td>\n",
       "      <td>1</td>\n",
       "    </tr>\n",
       "  </tbody>\n",
       "</table>\n",
       "</div>"
      ],
      "text/plain": [
       "   suction_cup_diameter  plate_thickness  weight  vacuum_pressure  distorted\n",
       "0                    60              0.6    17.8               45          1\n",
       "1                    60              0.6    17.8               50          1\n",
       "2                    60              0.6    17.8               55          1\n",
       "3                    60              0.6    17.8               60          1\n",
       "4                    60              0.6    17.8               65          1"
      ]
     },
     "execution_count": 168,
     "metadata": {},
     "output_type": "execute_result"
    }
   ],
   "source": [
    "df = pd.read_csv(r\"./test_date.csv\")\n",
    "df.shape\n",
    "df.head()"
   ]
  },
  {
   "cell_type": "code",
   "execution_count": 169,
   "metadata": {},
   "outputs": [
    {
     "data": {
      "text/html": [
       "<div>\n",
       "<style scoped>\n",
       "    .dataframe tbody tr th:only-of-type {\n",
       "        vertical-align: middle;\n",
       "    }\n",
       "\n",
       "    .dataframe tbody tr th {\n",
       "        vertical-align: top;\n",
       "    }\n",
       "\n",
       "    .dataframe thead th {\n",
       "        text-align: right;\n",
       "    }\n",
       "</style>\n",
       "<table border=\"1\" class=\"dataframe\">\n",
       "  <thead>\n",
       "    <tr style=\"text-align: right;\">\n",
       "      <th></th>\n",
       "      <th>suction_cup_diameter</th>\n",
       "      <th>plate_thickness</th>\n",
       "      <th>weight</th>\n",
       "      <th>vacuum_pressure</th>\n",
       "      <th>distorted</th>\n",
       "    </tr>\n",
       "  </thead>\n",
       "  <tbody>\n",
       "    <tr>\n",
       "      <th>0</th>\n",
       "      <td>60</td>\n",
       "      <td>0.6</td>\n",
       "      <td>17.8</td>\n",
       "      <td>45</td>\n",
       "      <td>1</td>\n",
       "    </tr>\n",
       "    <tr>\n",
       "      <th>1</th>\n",
       "      <td>60</td>\n",
       "      <td>0.6</td>\n",
       "      <td>17.8</td>\n",
       "      <td>50</td>\n",
       "      <td>1</td>\n",
       "    </tr>\n",
       "    <tr>\n",
       "      <th>2</th>\n",
       "      <td>60</td>\n",
       "      <td>0.6</td>\n",
       "      <td>17.8</td>\n",
       "      <td>55</td>\n",
       "      <td>1</td>\n",
       "    </tr>\n",
       "    <tr>\n",
       "      <th>3</th>\n",
       "      <td>60</td>\n",
       "      <td>0.6</td>\n",
       "      <td>17.8</td>\n",
       "      <td>60</td>\n",
       "      <td>1</td>\n",
       "    </tr>\n",
       "    <tr>\n",
       "      <th>4</th>\n",
       "      <td>60</td>\n",
       "      <td>0.6</td>\n",
       "      <td>17.8</td>\n",
       "      <td>65</td>\n",
       "      <td>1</td>\n",
       "    </tr>\n",
       "  </tbody>\n",
       "</table>\n",
       "</div>"
      ],
      "text/plain": [
       "   suction_cup_diameter  plate_thickness  weight  vacuum_pressure  distorted\n",
       "0                    60              0.6    17.8               45          1\n",
       "1                    60              0.6    17.8               50          1\n",
       "2                    60              0.6    17.8               55          1\n",
       "3                    60              0.6    17.8               60          1\n",
       "4                    60              0.6    17.8               65          1"
      ]
     },
     "execution_count": 169,
     "metadata": {},
     "output_type": "execute_result"
    }
   ],
   "source": [
    "# 質的変数の変換\n",
    "df = pd.get_dummies(df,drop_first = True)\n",
    "df.head()"
   ]
  },
  {
   "cell_type": "code",
   "execution_count": 170,
   "metadata": {},
   "outputs": [],
   "source": [
    "# テストデータとトレーニングデータの準備\n",
    "train_data = df.drop(\"distorted\", axis=1) #説明変数のデータ\n",
    "y = df[\"distorted\"] #目的変数のデータ\n",
    "X = train_data\n",
    "\n",
    "X_train, X_test, y_train, y_test = train_test_split(X, y, test_size=0.3, random_state=0)\n"
   ]
  },
  {
   "cell_type": "markdown",
   "metadata": {},
   "source": [
    "### ランダムフォレスト"
   ]
  },
  {
   "cell_type": "code",
   "execution_count": 171,
   "metadata": {},
   "outputs": [
    {
     "name": "stdout",
     "output_type": "stream",
     "text": [
      "score= 0.9893617021276596\n"
     ]
    }
   ],
   "source": [
    "# ランダムフォレストでモデル作成\n",
    "from sklearn.ensemble import RandomForestClassifier\n",
    "rf_cls = RandomForestClassifier(max_depth=3,random_state=0).fit(X_train,y_train)\n",
    "clf = RandomForestClassifier(random_state=1234).fit(X_train, y_train)\n",
    "print(\"score=\", clf.score(X_test, y_test))"
   ]
  },
  {
   "cell_type": "code",
   "execution_count": 172,
   "metadata": {},
   "outputs": [
    {
     "name": "stdout",
     "output_type": "stream",
     "text": [
      "各分割のスコア：[0.79456522 0.79411765 0.78397213 0.56028369 0.91205674]\n",
      "平均スコア：0.7689990830835166\n"
     ]
    }
   ],
   "source": [
    "# クロスバリデーションで検証\n",
    "from sklearn.model_selection import cross_val_score\n",
    "from sklearn.model_selection import KFold\n",
    "\n",
    "rf_cv = RandomForestClassifier(n_estimators=3,max_depth=5,random_state=0)\n",
    "k_fold = KFold(n_splits=5,shuffle=True,random_state=0)\n",
    "rf_scores = cross_val_score(estimator=rf_cv,X=X,y=y,cv=k_fold,scoring=\"r2\")\n",
    "print(f\"各分割のスコア：{rf_scores}\")\n",
    "print(f\"平均スコア：{np.mean(rf_scores)}\")"
   ]
  },
  {
   "cell_type": "code",
   "execution_count": 173,
   "metadata": {},
   "outputs": [
    {
     "data": {
      "text/plain": [
       "<BarContainer object of 4 artists>"
      ]
     },
     "execution_count": 173,
     "metadata": {},
     "output_type": "execute_result"
    },
    {
     "data": {
      "image/png": "[encoded data removed]",
      "text/plain": [
       "<Figure size 640x480 with 1 Axes>"
      ]
     },
     "metadata": {},
     "output_type": "display_data"
    }
   ],
   "source": [
    "# 重要度の確認\n",
    "rf_cls.feature_importances_\n",
    "plt.barh(X.columns,rf_cls.feature_importances_)"
   ]
  },
  {
   "cell_type": "markdown",
   "metadata": {},
   "source": [
    "### XgBoost"
   ]
  },
  {
   "cell_type": "code",
   "execution_count": 174,
   "metadata": {},
   "outputs": [
    {
     "name": "stdout",
     "output_type": "stream",
     "text": [
      "[0]\tvalidation_0-logloss:0.40840\n",
      "[1]\tvalidation_0-logloss:0.31003\n",
      "[2]\tvalidation_0-logloss:0.24135\n",
      "[3]\tvalidation_0-logloss:0.19630\n",
      "[4]\tvalidation_0-logloss:0.15771\n",
      "[5]\tvalidation_0-logloss:0.13927\n",
      "[6]\tvalidation_0-logloss:0.11713\n",
      "[7]\tvalidation_0-logloss:0.10451\n",
      "[8]\tvalidation_0-logloss:0.08950\n",
      "[9]\tvalidation_0-logloss:0.07752\n"
     ]
    },
    {
     "name": "stdout",
     "output_type": "stream",
     "text": [
      "[10]\tvalidation_0-logloss:0.07402\n",
      "[11]\tvalidation_0-logloss:0.06879\n",
      "[12]\tvalidation_0-logloss:0.06655\n",
      "[13]\tvalidation_0-logloss:0.06212\n",
      "[14]\tvalidation_0-logloss:0.05848\n",
      "[15]\tvalidation_0-logloss:0.05771\n",
      "[16]\tvalidation_0-logloss:0.05614\n",
      "[17]\tvalidation_0-logloss:0.05518\n",
      "[18]\tvalidation_0-logloss:0.05385\n",
      "[19]\tvalidation_0-logloss:0.05222\n",
      "[20]\tvalidation_0-logloss:0.04988\n",
      "[21]\tvalidation_0-logloss:0.05059\n",
      "[22]\tvalidation_0-logloss:0.04960\n",
      "[23]\tvalidation_0-logloss:0.04870\n",
      "[24]\tvalidation_0-logloss:0.04806\n",
      "[25]\tvalidation_0-logloss:0.04731\n",
      "[26]\tvalidation_0-logloss:0.04663\n",
      "[27]\tvalidation_0-logloss:0.04613\n",
      "[28]\tvalidation_0-logloss:0.04554\n",
      "[29]\tvalidation_0-logloss:0.04620\n",
      "[30]\tvalidation_0-logloss:0.04571\n",
      "[31]\tvalidation_0-logloss:0.04529\n",
      "[32]\tvalidation_0-logloss:0.04486\n",
      "[33]\tvalidation_0-logloss:0.04436\n",
      "[34]\tvalidation_0-logloss:0.04397\n",
      "[35]\tvalidation_0-logloss:0.04257\n",
      "[36]\tvalidation_0-logloss:0.04241\n",
      "[37]\tvalidation_0-logloss:0.04110\n",
      "[38]\tvalidation_0-logloss:0.04099\n",
      "[39]\tvalidation_0-logloss:0.04014\n",
      "[40]\tvalidation_0-logloss:0.03996\n",
      "[41]\tvalidation_0-logloss:0.03974\n",
      "[42]\tvalidation_0-logloss:0.03970\n",
      "[43]\tvalidation_0-logloss:0.03870\n",
      "[44]\tvalidation_0-logloss:0.03866\n",
      "[45]\tvalidation_0-logloss:0.03798\n",
      "[46]\tvalidation_0-logloss:0.03724\n",
      "[47]\tvalidation_0-logloss:0.03754\n",
      "[48]\tvalidation_0-logloss:0.03766\n",
      "[49]\tvalidation_0-logloss:0.03721\n",
      "[50]\tvalidation_0-logloss:0.03711\n",
      "[51]\tvalidation_0-logloss:0.03718\n",
      "[52]\tvalidation_0-logloss:0.03674\n",
      "[53]\tvalidation_0-logloss:0.03668\n",
      "[54]\tvalidation_0-logloss:0.03612\n",
      "[55]\tvalidation_0-logloss:0.03552\n",
      "[56]\tvalidation_0-logloss:0.03577\n",
      "[57]\tvalidation_0-logloss:0.03583\n",
      "[58]\tvalidation_0-logloss:0.03608\n",
      "[59]\tvalidation_0-logloss:0.03542\n",
      "[60]\tvalidation_0-logloss:0.03548\n",
      "[61]\tvalidation_0-logloss:0.03572\n",
      "[62]\tvalidation_0-logloss:0.03527\n",
      "[63]\tvalidation_0-logloss:0.03496\n",
      "[64]\tvalidation_0-logloss:0.03487\n",
      "[65]\tvalidation_0-logloss:0.03450\n",
      "[66]\tvalidation_0-logloss:0.03437\n",
      "[67]\tvalidation_0-logloss:0.03448\n",
      "[68]\tvalidation_0-logloss:0.03416\n",
      "[69]\tvalidation_0-logloss:0.03384\n",
      "[70]\tvalidation_0-logloss:0.03360\n",
      "[71]\tvalidation_0-logloss:0.03353\n",
      "[72]\tvalidation_0-logloss:0.03380\n",
      "[73]\tvalidation_0-logloss:0.03429\n",
      "[74]\tvalidation_0-logloss:0.03399\n",
      "[75]\tvalidation_0-logloss:0.03368\n",
      "[76]\tvalidation_0-logloss:0.03362\n",
      "[77]\tvalidation_0-logloss:0.03340\n",
      "[78]\tvalidation_0-logloss:0.03336\n",
      "[79]\tvalidation_0-logloss:0.03309\n",
      "[80]\tvalidation_0-logloss:0.03315\n",
      "[81]\tvalidation_0-logloss:0.03311\n",
      "[82]\tvalidation_0-logloss:0.03368\n",
      "[83]\tvalidation_0-logloss:0.03362\n",
      "[84]\tvalidation_0-logloss:0.03330\n",
      "[85]\tvalidation_0-logloss:0.03351\n",
      "[86]\tvalidation_0-logloss:0.03325\n",
      "[87]\tvalidation_0-logloss:0.03380\n",
      "[88]\tvalidation_0-logloss:0.03400\n",
      "[89]\tvalidation_0-logloss:0.03374\n",
      "[90]\tvalidation_0-logloss:0.03429\n",
      "[91]\tvalidation_0-logloss:0.03424\n",
      "[92]\tvalidation_0-logloss:0.03396\n",
      "[93]\tvalidation_0-logloss:0.03420\n",
      "[94]\tvalidation_0-logloss:0.03397\n",
      "[95]\tvalidation_0-logloss:0.03422\n",
      "[96]\tvalidation_0-logloss:0.03420\n",
      "[97]\tvalidation_0-logloss:0.03473\n",
      "[98]\tvalidation_0-logloss:0.03520\n",
      "[99]\tvalidation_0-logloss:0.03471\n",
      "各分割のスコア：[1.         0.89705882 0.85598142 0.73617021 0.91205674]\n",
      "平均スコア：0.8802534381682096\n"
     ]
    }
   ],
   "source": [
    "# XgBoostにてモデル作成\n",
    "from xgboost import XGBClassifier\n",
    "xgb_clf = XGBClassifier(random_state=0)\n",
    "eval_set = [(X_test,y_test)]\n",
    "xgb_clf.fit(X_train,y_train,eval_set=eval_set,verbose=True)\n",
    "# print(\"best_score\")\n",
    "# print(xgb_clf.best_score)\n",
    "# print(\"best_iteration\")\n",
    "# print(xgb_clf.best_iteration)\n",
    "\n",
    "k_fold = KFold(n_splits=5,shuffle=True,random_state=0)\n",
    "xgb_scores = cross_val_score(xgb_clf,X,y,cv=k_fold,scoring=\"r2\")\n",
    "print(f\"各分割のスコア：{xgb_scores}\")\n",
    "print(f\"平均スコア：{np.mean(xgb_scores)}\")"
   ]
  },
  {
   "cell_type": "code",
   "execution_count": 175,
   "metadata": {},
   "outputs": [
    {
     "data": {
      "text/html": [
       "<style>#sk-container-id-7 {color: black;}#sk-container-id-7 pre{padding: 0;}#sk-container-id-7 div.sk-toggleable {background-color: white;}#sk-container-id-7 label.sk-toggleable__label {cursor: pointer;display: block;width: 100%;margin-bottom: 0;padding: 0.3em;box-sizing: border-box;text-align: center;}#sk-container-id-7 label.sk-toggleable__label-arrow:before {content: \"▸\";float: left;margin-right: 0.25em;color: #696969;}#sk-container-id-7 label.sk-toggleable__label-arrow:hover:before {color: black;}#sk-container-id-7 div.sk-estimator:hover label.sk-toggleable__label-arrow:before {color: black;}#sk-container-id-7 div.sk-toggleable__content {max-height: 0;max-width: 0;overflow: hidden;text-align: left;background-color: #f0f8ff;}#sk-container-id-7 div.sk-toggleable__content pre {margin: 0.2em;color: black;border-radius: 0.25em;background-color: #f0f8ff;}#sk-container-id-7 input.sk-toggleable__control:checked~div.sk-toggleable__content {max-height: 200px;max-width: 100%;overflow: auto;}#sk-container-id-7 input.sk-toggleable__control:checked~label.sk-toggleable__label-arrow:before {content: \"▾\";}#sk-container-id-7 div.sk-estimator input.sk-toggleable__control:checked~label.sk-toggleable__label {background-color: #d4ebff;}#sk-container-id-7 div.sk-label input.sk-toggleable__control:checked~label.sk-toggleable__label {background-color: #d4ebff;}#sk-container-id-7 input.sk-hidden--visually {border: 0;clip: rect(1px 1px 1px 1px);clip: rect(1px, 1px, 1px, 1px);height: 1px;margin: -1px;overflow: hidden;padding: 0;position: absolute;width: 1px;}#sk-container-id-7 div.sk-estimator {font-family: monospace;background-color: #f0f8ff;border: 1px dotted black;border-radius: 0.25em;box-sizing: border-box;margin-bottom: 0.5em;}#sk-container-id-7 div.sk-estimator:hover {background-color: #d4ebff;}#sk-container-id-7 div.sk-parallel-item::after {content: \"\";width: 100%;border-bottom: 1px solid gray;flex-grow: 1;}#sk-container-id-7 div.sk-label:hover label.sk-toggleable__label {background-color: #d4ebff;}#sk-container-id-7 div.sk-serial::before {content: \"\";position: absolute;border-left: 1px solid gray;box-sizing: border-box;top: 0;bottom: 0;left: 50%;z-index: 0;}#sk-container-id-7 div.sk-serial {display: flex;flex-direction: column;align-items: center;background-color: white;padding-right: 0.2em;padding-left: 0.2em;position: relative;}#sk-container-id-7 div.sk-item {position: relative;z-index: 1;}#sk-container-id-7 div.sk-parallel {display: flex;align-items: stretch;justify-content: center;background-color: white;position: relative;}#sk-container-id-7 div.sk-item::before, #sk-container-id-7 div.sk-parallel-item::before {content: \"\";position: absolute;border-left: 1px solid gray;box-sizing: border-box;top: 0;bottom: 0;left: 50%;z-index: -1;}#sk-container-id-7 div.sk-parallel-item {display: flex;flex-direction: column;z-index: 1;position: relative;background-color: white;}#sk-container-id-7 div.sk-parallel-item:first-child::after {align-self: flex-end;width: 50%;}#sk-container-id-7 div.sk-parallel-item:last-child::after {align-self: flex-start;width: 50%;}#sk-container-id-7 div.sk-parallel-item:only-child::after {width: 0;}#sk-container-id-7 div.sk-dashed-wrapped {border: 1px dashed gray;margin: 0 0.4em 0.5em 0.4em;box-sizing: border-box;padding-bottom: 0.4em;background-color: white;}#sk-container-id-7 div.sk-label label {font-family: monospace;font-weight: bold;display: inline-block;line-height: 1.2em;}#sk-container-id-7 div.sk-label-container {text-align: center;}#sk-container-id-7 div.sk-container {/* jupyter's `normalize.less` sets `[hidden] { display: none; }` but bootstrap.min.css set `[hidden] { display: none !important; }` so we also need the `!important` here to be able to override the default hidden behavior on the sphinx rendered scikit-learn.org. See: https://github.com/scikit-learn/scikit-learn/issues/21755 */display: inline-block !important;position: relative;}#sk-container-id-7 div.sk-text-repr-fallback {display: none;}</style><div id=\"sk-container-id-7\" class=\"sk-top-container\"><div class=\"sk-text-repr-fallback\"><pre>GridSearchCV(cv=KFold(n_splits=5, random_state=0, shuffle=True),\n",
       "             estimator=XGBClassifier(base_score=None, booster=None,\n",
       "                                     callbacks=None, colsample_bylevel=None,\n",
       "                                     colsample_bynode=None,\n",
       "                                     colsample_bytree=None, device=None,\n",
       "                                     early_stopping_rounds=None,\n",
       "                                     enable_categorical=False, eval_metric=None,\n",
       "                                     feature_types=None, gamma=None,\n",
       "                                     grow_policy=None, importance_type=None,\n",
       "                                     inte...\n",
       "                                     max_leaves=None, min_child_weight=None,\n",
       "                                     missing=nan, monotone_constraints=None,\n",
       "                                     multi_strategy=None, n_estimators=None,\n",
       "                                     n_jobs=None, num_parallel_tree=None,\n",
       "                                     random_state=None, ...),\n",
       "             param_grid={&#x27;booster&#x27;: [&#x27;gbtree&#x27;],\n",
       "                         &#x27;colsample_bytree&#x27;: [0.1, 0.25, 0.5, 0.75, 1.0],\n",
       "                         &#x27;learning_rate&#x27;: [0.1, 0.25, 0.5, 0.75, 1.0],\n",
       "                         &#x27;max_depth&#x27;: [2, 3, 4, 5, 6],\n",
       "                         &#x27;n_estimators&#x27;: [10, 30, 50, 100]},\n",
       "             scoring=&#x27;r2&#x27;)</pre><b>In a Jupyter environment, please rerun this cell to show the HTML representation or trust the notebook. <br />On GitHub, the HTML representation is unable to render, please try loading this page with nbviewer.org.</b></div><div class=\"sk-container\" hidden><div class=\"sk-item sk-dashed-wrapped\"><div class=\"sk-label-container\"><div class=\"sk-label sk-toggleable\"><input class=\"sk-toggleable__control sk-hidden--visually\" id=\"sk-estimator-id-19\" type=\"checkbox\" ><label for=\"sk-estimator-id-19\" class=\"sk-toggleable__label sk-toggleable__label-arrow\">GridSearchCV</label><div class=\"sk-toggleable__content\"><pre>GridSearchCV(cv=KFold(n_splits=5, random_state=0, shuffle=True),\n",
       "             estimator=XGBClassifier(base_score=None, booster=None,\n",
       "                                     callbacks=None, colsample_bylevel=None,\n",
       "                                     colsample_bynode=None,\n",
       "                                     colsample_bytree=None, device=None,\n",
       "                                     early_stopping_rounds=None,\n",
       "                                     enable_categorical=False, eval_metric=None,\n",
       "                                     feature_types=None, gamma=None,\n",
       "                                     grow_policy=None, importance_type=None,\n",
       "                                     inte...\n",
       "                                     max_leaves=None, min_child_weight=None,\n",
       "                                     missing=nan, monotone_constraints=None,\n",
       "                                     multi_strategy=None, n_estimators=None,\n",
       "                                     n_jobs=None, num_parallel_tree=None,\n",
       "                                     random_state=None, ...),\n",
       "             param_grid={&#x27;booster&#x27;: [&#x27;gbtree&#x27;],\n",
       "                         &#x27;colsample_bytree&#x27;: [0.1, 0.25, 0.5, 0.75, 1.0],\n",
       "                         &#x27;learning_rate&#x27;: [0.1, 0.25, 0.5, 0.75, 1.0],\n",
       "                         &#x27;max_depth&#x27;: [2, 3, 4, 5, 6],\n",
       "                         &#x27;n_estimators&#x27;: [10, 30, 50, 100]},\n",
       "             scoring=&#x27;r2&#x27;)</pre></div></div></div><div class=\"sk-parallel\"><div class=\"sk-parallel-item\"><div class=\"sk-item\"><div class=\"sk-label-container\"><div class=\"sk-label sk-toggleable\"><input class=\"sk-toggleable__control sk-hidden--visually\" id=\"sk-estimator-id-20\" type=\"checkbox\" ><label for=\"sk-estimator-id-20\" class=\"sk-toggleable__label sk-toggleable__label-arrow\">estimator: XGBClassifier</label><div class=\"sk-toggleable__content\"><pre>XGBClassifier(base_score=None, booster=None, callbacks=None,\n",
       "              colsample_bylevel=None, colsample_bynode=None,\n",
       "              colsample_bytree=None, device=None, early_stopping_rounds=None,\n",
       "              enable_categorical=False, eval_metric=None, feature_types=None,\n",
       "              gamma=None, grow_policy=None, importance_type=None,\n",
       "              interaction_constraints=None, learning_rate=None, max_bin=None,\n",
       "              max_cat_threshold=None, max_cat_to_onehot=None,\n",
       "              max_delta_step=None, max_depth=None, max_leaves=None,\n",
       "              min_child_weight=None, missing=nan, monotone_constraints=None,\n",
       "              multi_strategy=None, n_estimators=None, n_jobs=None,\n",
       "              num_parallel_tree=None, random_state=None, ...)</pre></div></div></div><div class=\"sk-serial\"><div class=\"sk-item\"><div class=\"sk-estimator sk-toggleable\"><input class=\"sk-toggleable__control sk-hidden--visually\" id=\"sk-estimator-id-21\" type=\"checkbox\" ><label for=\"sk-estimator-id-21\" class=\"sk-toggleable__label sk-toggleable__label-arrow\">XGBClassifier</label><div class=\"sk-toggleable__content\"><pre>XGBClassifier(base_score=None, booster=None, callbacks=None,\n",
       "              colsample_bylevel=None, colsample_bynode=None,\n",
       "              colsample_bytree=None, device=None, early_stopping_rounds=None,\n",
       "              enable_categorical=False, eval_metric=None, feature_types=None,\n",
       "              gamma=None, grow_policy=None, importance_type=None,\n",
       "              interaction_constraints=None, learning_rate=None, max_bin=None,\n",
       "              max_cat_threshold=None, max_cat_to_onehot=None,\n",
       "              max_delta_step=None, max_depth=None, max_leaves=None,\n",
       "              min_child_weight=None, missing=nan, monotone_constraints=None,\n",
       "              multi_strategy=None, n_estimators=None, n_jobs=None,\n",
       "              num_parallel_tree=None, random_state=None, ...)</pre></div></div></div></div></div></div></div></div></div></div>"
      ],
      "text/plain": [
       "GridSearchCV(cv=KFold(n_splits=5, random_state=0, shuffle=True),\n",
       "             estimator=XGBClassifier(base_score=None, booster=None,\n",
       "                                     callbacks=None, colsample_bylevel=None,\n",
       "                                     colsample_bynode=None,\n",
       "                                     colsample_bytree=None, device=None,\n",
       "                                     early_stopping_rounds=None,\n",
       "                                     enable_categorical=False, eval_metric=None,\n",
       "                                     feature_types=None, gamma=None,\n",
       "                                     grow_policy=None, importance_type=None,\n",
       "                                     inte...\n",
       "                                     max_leaves=None, min_child_weight=None,\n",
       "                                     missing=nan, monotone_constraints=None,\n",
       "                                     multi_strategy=None, n_estimators=None,\n",
       "                                     n_jobs=None, num_parallel_tree=None,\n",
       "                                     random_state=None, ...),\n",
       "             param_grid={'booster': ['gbtree'],\n",
       "                         'colsample_bytree': [0.1, 0.25, 0.5, 0.75, 1.0],\n",
       "                         'learning_rate': [0.1, 0.25, 0.5, 0.75, 1.0],\n",
       "                         'max_depth': [2, 3, 4, 5, 6],\n",
       "                         'n_estimators': [10, 30, 50, 100]},\n",
       "             scoring='r2')"
      ]
     },
     "execution_count": 175,
     "metadata": {},
     "output_type": "execute_result"
    }
   ],
   "source": [
    "# XgBoostのハイパーパラメータをグリッドサーチでチューニング\n",
    "xgb_clf_grid = XGBClassifier()\n",
    "from sklearn.model_selection import GridSearchCV\n",
    "params = {\"booster\": [\"gbtree\"],\n",
    "          \"n_estimators\":[10,30,50,100],\n",
    "          \"max_depth\":[2,3,4,5,6],\n",
    "          \"learning_rate\":[0.1,0.25,0.5,0.75,1.0],\n",
    "          \"colsample_bytree\":[0.1,0.25,0.5,0.75,1.0],\n",
    "          #\"radom_state\":[0]\n",
    "          }\n",
    "\n",
    "k_fold = KFold(n_splits=5,shuffle=True,random_state=0)\n",
    "grid = GridSearchCV(estimator=xgb_clf_grid,param_grid=params,cv=k_fold,scoring=\"r2\")\n",
    "grid.fit(X_train,y_train)"
   ]
  },
  {
   "cell_type": "code",
   "execution_count": 176,
   "metadata": {},
   "outputs": [
    {
     "name": "stdout",
     "output_type": "stream",
     "text": [
      "{'booster': 'gbtree', 'colsample_bytree': 0.75, 'learning_rate': 0.75, 'max_depth': 6, 'n_estimators': 10}\n",
      "0.824205262564796\n"
     ]
    }
   ],
   "source": [
    "# 最も評価が高い組み合わせとスコアの算出\n",
    "print(grid.best_params_)\n",
    "print(grid.best_score_)"
   ]
  },
  {
   "cell_type": "code",
   "execution_count": 177,
   "metadata": {},
   "outputs": [
    {
     "name": "stdout",
     "output_type": "stream",
     "text": [
      "score:1.0000\n"
     ]
    }
   ],
   "source": [
    "# グリッドサーチのベストパラメータでモデルを作成\n",
    "from sklearn.metrics import accuracy_score\n",
    "\n",
    "model_xgb_grid = grid.best_estimator_\n",
    "y_test_pred = model_xgb_grid.predict(X_test)\n",
    "score = accuracy_score(y_test,y_test_pred)\n",
    "\n",
    "print(\"score:{0:.4f}\".format(score))"
   ]
  },
  {
   "cell_type": "code",
   "execution_count": 178,
   "metadata": {},
   "outputs": [
    {
     "data": {
      "text/plain": [
       "<BarContainer object of 4 artists>"
      ]
     },
     "execution_count": 178,
     "metadata": {},
     "output_type": "execute_result"
    },
    {
     "data": {
      "image/png": "[encoded data removed]",
      "text/plain": [
       "<Figure size 640x480 with 1 Axes>"
      ]
     },
     "metadata": {},
     "output_type": "display_data"
    }
   ],
   "source": [
    "# 重要度の確認\n",
    "xgb_clf.feature_importances_\n",
    "plt.barh(X.columns,xgb_clf.feature_importances_)"
   ]
  },
  {
   "cell_type": "markdown",
   "metadata": {},
   "source": [
    "### モデル保存"
   ]
  },
  {
   "cell_type": "code",
   "execution_count": 182,
   "metadata": {},
   "outputs": [],
   "source": [
    "import pickle\n",
    "pickle.dump(model_xgb_grid,open(f'model.pkl','wb'))"
   ]
  }
 ],
 "metadata": {
  "kernelspec": {
   "display_name": "env",
   "language": "python",
   "name": "python3"
  },
  "language_info": {
   "codemirror_mode": {
    "name": "ipython",
    "version": 3
   },
   "file_extension": ".py",
   "mimetype": "text/x-python",
   "name": "python",
   "nbconvert_exporter": "python",
   "pygments_lexer": "ipython3",
   "version": "3.10.7"
  }
 },
 "nbformat": 4,
 "nbformat_minor": 2
}
